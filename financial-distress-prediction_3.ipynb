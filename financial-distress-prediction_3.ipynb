{
 "cells": [
  {
   "cell_type": "code",
   "execution_count": 1,
   "metadata": {
    "_cell_guid": "2410ea3d-9502-4dbf-b781-ecf60c802d5b",
    "_uuid": "8d47f3fd23eee3a43e0a1759f692d518a51abfbe"
   },
   "outputs": [
    {
     "data": {
      "text/html": [
       "<div>\n",
       "<style scoped>\n",
       "    .dataframe tbody tr th:only-of-type {\n",
       "        vertical-align: middle;\n",
       "    }\n",
       "\n",
       "    .dataframe tbody tr th {\n",
       "        vertical-align: top;\n",
       "    }\n",
       "\n",
       "    .dataframe thead th {\n",
       "        text-align: right;\n",
       "    }\n",
       "</style>\n",
       "<table border=\"1\" class=\"dataframe\">\n",
       "  <thead>\n",
       "    <tr style=\"text-align: right;\">\n",
       "      <th></th>\n",
       "      <th>Company</th>\n",
       "      <th>Time</th>\n",
       "      <th>Financial Distress</th>\n",
       "      <th>x1</th>\n",
       "      <th>x2</th>\n",
       "      <th>x3</th>\n",
       "      <th>x4</th>\n",
       "      <th>x5</th>\n",
       "      <th>x6</th>\n",
       "      <th>x7</th>\n",
       "      <th>...</th>\n",
       "      <th>x74</th>\n",
       "      <th>x75</th>\n",
       "      <th>x76</th>\n",
       "      <th>x77</th>\n",
       "      <th>x78</th>\n",
       "      <th>x79</th>\n",
       "      <th>x80</th>\n",
       "      <th>x81</th>\n",
       "      <th>x82</th>\n",
       "      <th>x83</th>\n",
       "    </tr>\n",
       "  </thead>\n",
       "  <tbody>\n",
       "    <tr>\n",
       "      <td>0</td>\n",
       "      <td>1</td>\n",
       "      <td>1</td>\n",
       "      <td>0.010636</td>\n",
       "      <td>1.2810</td>\n",
       "      <td>0.022934</td>\n",
       "      <td>0.87454</td>\n",
       "      <td>1.21640</td>\n",
       "      <td>0.060940</td>\n",
       "      <td>0.188270</td>\n",
       "      <td>0.52510</td>\n",
       "      <td>...</td>\n",
       "      <td>85.437</td>\n",
       "      <td>27.07</td>\n",
       "      <td>26.102</td>\n",
       "      <td>16.000</td>\n",
       "      <td>16.0</td>\n",
       "      <td>0.2</td>\n",
       "      <td>22</td>\n",
       "      <td>0.060390</td>\n",
       "      <td>30</td>\n",
       "      <td>49</td>\n",
       "    </tr>\n",
       "    <tr>\n",
       "      <td>1</td>\n",
       "      <td>1</td>\n",
       "      <td>2</td>\n",
       "      <td>-0.455970</td>\n",
       "      <td>1.2700</td>\n",
       "      <td>0.006454</td>\n",
       "      <td>0.82067</td>\n",
       "      <td>1.00490</td>\n",
       "      <td>-0.014080</td>\n",
       "      <td>0.181040</td>\n",
       "      <td>0.62288</td>\n",
       "      <td>...</td>\n",
       "      <td>107.090</td>\n",
       "      <td>31.31</td>\n",
       "      <td>30.194</td>\n",
       "      <td>17.000</td>\n",
       "      <td>16.0</td>\n",
       "      <td>0.4</td>\n",
       "      <td>22</td>\n",
       "      <td>0.010636</td>\n",
       "      <td>31</td>\n",
       "      <td>50</td>\n",
       "    </tr>\n",
       "    <tr>\n",
       "      <td>2</td>\n",
       "      <td>1</td>\n",
       "      <td>3</td>\n",
       "      <td>-0.325390</td>\n",
       "      <td>1.0529</td>\n",
       "      <td>-0.059379</td>\n",
       "      <td>0.92242</td>\n",
       "      <td>0.72926</td>\n",
       "      <td>0.020476</td>\n",
       "      <td>0.044865</td>\n",
       "      <td>0.43292</td>\n",
       "      <td>...</td>\n",
       "      <td>120.870</td>\n",
       "      <td>36.07</td>\n",
       "      <td>35.273</td>\n",
       "      <td>17.000</td>\n",
       "      <td>15.0</td>\n",
       "      <td>-0.2</td>\n",
       "      <td>22</td>\n",
       "      <td>-0.455970</td>\n",
       "      <td>32</td>\n",
       "      <td>51</td>\n",
       "    </tr>\n",
       "    <tr>\n",
       "      <td>3</td>\n",
       "      <td>1</td>\n",
       "      <td>4</td>\n",
       "      <td>-0.566570</td>\n",
       "      <td>1.1131</td>\n",
       "      <td>-0.015229</td>\n",
       "      <td>0.85888</td>\n",
       "      <td>0.80974</td>\n",
       "      <td>0.076037</td>\n",
       "      <td>0.091033</td>\n",
       "      <td>0.67546</td>\n",
       "      <td>...</td>\n",
       "      <td>54.806</td>\n",
       "      <td>39.80</td>\n",
       "      <td>38.377</td>\n",
       "      <td>17.167</td>\n",
       "      <td>16.0</td>\n",
       "      <td>5.6</td>\n",
       "      <td>22</td>\n",
       "      <td>-0.325390</td>\n",
       "      <td>33</td>\n",
       "      <td>52</td>\n",
       "    </tr>\n",
       "    <tr>\n",
       "      <td>4</td>\n",
       "      <td>2</td>\n",
       "      <td>1</td>\n",
       "      <td>1.357300</td>\n",
       "      <td>1.0623</td>\n",
       "      <td>0.107020</td>\n",
       "      <td>0.81460</td>\n",
       "      <td>0.83593</td>\n",
       "      <td>0.199960</td>\n",
       "      <td>0.047800</td>\n",
       "      <td>0.74200</td>\n",
       "      <td>...</td>\n",
       "      <td>85.437</td>\n",
       "      <td>27.07</td>\n",
       "      <td>26.102</td>\n",
       "      <td>16.000</td>\n",
       "      <td>16.0</td>\n",
       "      <td>0.2</td>\n",
       "      <td>29</td>\n",
       "      <td>1.251000</td>\n",
       "      <td>7</td>\n",
       "      <td>27</td>\n",
       "    </tr>\n",
       "  </tbody>\n",
       "</table>\n",
       "<p>5 rows × 86 columns</p>\n",
       "</div>"
      ],
      "text/plain": [
       "   Company  Time  Financial Distress      x1        x2       x3       x4  \\\n",
       "0        1     1            0.010636  1.2810  0.022934  0.87454  1.21640   \n",
       "1        1     2           -0.455970  1.2700  0.006454  0.82067  1.00490   \n",
       "2        1     3           -0.325390  1.0529 -0.059379  0.92242  0.72926   \n",
       "3        1     4           -0.566570  1.1131 -0.015229  0.85888  0.80974   \n",
       "4        2     1            1.357300  1.0623  0.107020  0.81460  0.83593   \n",
       "\n",
       "         x5        x6       x7  ...      x74    x75     x76     x77   x78  \\\n",
       "0  0.060940  0.188270  0.52510  ...   85.437  27.07  26.102  16.000  16.0   \n",
       "1 -0.014080  0.181040  0.62288  ...  107.090  31.31  30.194  17.000  16.0   \n",
       "2  0.020476  0.044865  0.43292  ...  120.870  36.07  35.273  17.000  15.0   \n",
       "3  0.076037  0.091033  0.67546  ...   54.806  39.80  38.377  17.167  16.0   \n",
       "4  0.199960  0.047800  0.74200  ...   85.437  27.07  26.102  16.000  16.0   \n",
       "\n",
       "   x79  x80       x81  x82  x83  \n",
       "0  0.2   22  0.060390   30   49  \n",
       "1  0.4   22  0.010636   31   50  \n",
       "2 -0.2   22 -0.455970   32   51  \n",
       "3  5.6   22 -0.325390   33   52  \n",
       "4  0.2   29  1.251000    7   27  \n",
       "\n",
       "[5 rows x 86 columns]"
      ]
     },
     "execution_count": 1,
     "metadata": {},
     "output_type": "execute_result"
    }
   ],
   "source": [
    "import numpy as np         #linear algebra\n",
    "import pandas as pd     #data processing, for CSV file i/o\n",
    "import os\n",
    "\n",
    "from subprocess import check_output   # to start a process in python using check_output function call\n",
    "\n",
    "df = pd.read_csv(r\"C:\\Users\\anike\\Documents\\certificates & courses\\Financial distress 2\\Financial Distress.csv\")\n",
    "df.head()\n"
   ]
  },
  {
   "cell_type": "code",
   "execution_count": 2,
   "metadata": {
    "_cell_guid": "416b6c52-fba0-4194-9c38-a1205aa2ebdf",
    "_uuid": "71239f65e413a6a97bb3e995de1ab31818c57679"
   },
   "outputs": [
    {
     "name": "stdout",
     "output_type": "stream",
     "text": [
      "(422,)\n"
     ]
    }
   ],
   "source": [
    "print(df.Company.unique().shape) # to get how many unique companies are there, which is 422"
   ]
  },
  {
   "cell_type": "markdown",
   "metadata": {
    "_cell_guid": "79c2ef0f-6b90-40ee-be4f-3966288b6b74",
    "_uuid": "6504104960b77ab209510f3547f7d5ec507d9ba5"
   },
   "source": [
    "There are 422 company numbers in the dataframe with financial data given as short time series for each company. In this notebook the time information is ignored and every row is treated as an independent data point.\n",
    "\n",
    "Below, we will examine correlation of variables with Finacial Distress measurement: "
   ]
  },
  {
   "cell_type": "code",
   "execution_count": 22,
   "metadata": {
    "_cell_guid": "c9446c3d-90b8-49a8-b43b-6171b1143028",
    "_uuid": "2247df4be434dc9966a667fd07f3e6ff97f21bb8"
   },
   "outputs": [
    {
     "name": "stdout",
     "output_type": "stream",
     "text": [
      "(37,)\n"
     ]
    },
    {
     "data": {
      "text/html": [
       "<div>\n",
       "<style scoped>\n",
       "    .dataframe tbody tr th:only-of-type {\n",
       "        vertical-align: middle;\n",
       "    }\n",
       "\n",
       "    .dataframe tbody tr th {\n",
       "        vertical-align: top;\n",
       "    }\n",
       "\n",
       "    .dataframe thead th {\n",
       "        text-align: right;\n",
       "    }\n",
       "</style>\n",
       "<table border=\"1\" class=\"dataframe\">\n",
       "  <thead>\n",
       "    <tr style=\"text-align: right;\">\n",
       "      <th></th>\n",
       "      <th>Financial Distress</th>\n",
       "      <th>x1</th>\n",
       "      <th>x2</th>\n",
       "      <th>x3</th>\n",
       "      <th>x4</th>\n",
       "      <th>x5</th>\n",
       "      <th>x6</th>\n",
       "      <th>x7</th>\n",
       "      <th>x8</th>\n",
       "      <th>x9</th>\n",
       "      <th>...</th>\n",
       "      <th>x74</th>\n",
       "      <th>x75</th>\n",
       "      <th>x76</th>\n",
       "      <th>x77</th>\n",
       "      <th>x78</th>\n",
       "      <th>x79</th>\n",
       "      <th>x80</th>\n",
       "      <th>x81</th>\n",
       "      <th>x82</th>\n",
       "      <th>x83</th>\n",
       "    </tr>\n",
       "  </thead>\n",
       "  <tbody>\n",
       "    <tr>\n",
       "      <td>Financial Distress</td>\n",
       "      <td>1.000000</td>\n",
       "      <td>0.030928</td>\n",
       "      <td>0.272978</td>\n",
       "      <td>0.089264</td>\n",
       "      <td>0.116837</td>\n",
       "      <td>0.274435</td>\n",
       "      <td>0.077260</td>\n",
       "      <td>0.042412</td>\n",
       "      <td>0.006382</td>\n",
       "      <td>0.219091</td>\n",
       "      <td>...</td>\n",
       "      <td>0.018746</td>\n",
       "      <td>0.110030</td>\n",
       "      <td>0.113511</td>\n",
       "      <td>0.096058</td>\n",
       "      <td>0.013891</td>\n",
       "      <td>0.116661</td>\n",
       "      <td>0.048210</td>\n",
       "      <td>0.442916</td>\n",
       "      <td>0.010369</td>\n",
       "      <td>0.007209</td>\n",
       "    </tr>\n",
       "    <tr>\n",
       "      <td>x81</td>\n",
       "      <td>0.442916</td>\n",
       "      <td>0.053595</td>\n",
       "      <td>0.281884</td>\n",
       "      <td>0.111055</td>\n",
       "      <td>0.203058</td>\n",
       "      <td>0.266739</td>\n",
       "      <td>0.101647</td>\n",
       "      <td>0.064812</td>\n",
       "      <td>0.000214</td>\n",
       "      <td>0.181116</td>\n",
       "      <td>...</td>\n",
       "      <td>0.002413</td>\n",
       "      <td>0.159350</td>\n",
       "      <td>0.162778</td>\n",
       "      <td>0.134828</td>\n",
       "      <td>0.020161</td>\n",
       "      <td>0.122266</td>\n",
       "      <td>0.039511</td>\n",
       "      <td>1.000000</td>\n",
       "      <td>0.006151</td>\n",
       "      <td>0.001491</td>\n",
       "    </tr>\n",
       "    <tr>\n",
       "      <td>x48</td>\n",
       "      <td>0.435318</td>\n",
       "      <td>0.039251</td>\n",
       "      <td>0.249237</td>\n",
       "      <td>0.092989</td>\n",
       "      <td>0.201250</td>\n",
       "      <td>0.237494</td>\n",
       "      <td>0.083978</td>\n",
       "      <td>0.050854</td>\n",
       "      <td>0.001069</td>\n",
       "      <td>0.167506</td>\n",
       "      <td>...</td>\n",
       "      <td>0.013017</td>\n",
       "      <td>0.125823</td>\n",
       "      <td>0.129920</td>\n",
       "      <td>0.112184</td>\n",
       "      <td>0.030507</td>\n",
       "      <td>0.099717</td>\n",
       "      <td>0.040592</td>\n",
       "      <td>0.965758</td>\n",
       "      <td>0.001350</td>\n",
       "      <td>0.016606</td>\n",
       "    </tr>\n",
       "    <tr>\n",
       "      <td>x25</td>\n",
       "      <td>0.376786</td>\n",
       "      <td>0.043398</td>\n",
       "      <td>0.483282</td>\n",
       "      <td>0.083522</td>\n",
       "      <td>0.225023</td>\n",
       "      <td>0.461038</td>\n",
       "      <td>0.076557</td>\n",
       "      <td>0.061415</td>\n",
       "      <td>0.001520</td>\n",
       "      <td>0.454145</td>\n",
       "      <td>...</td>\n",
       "      <td>0.016200</td>\n",
       "      <td>0.063416</td>\n",
       "      <td>0.070655</td>\n",
       "      <td>0.074821</td>\n",
       "      <td>0.021393</td>\n",
       "      <td>0.098081</td>\n",
       "      <td>0.048746</td>\n",
       "      <td>0.920063</td>\n",
       "      <td>0.054106</td>\n",
       "      <td>0.031691</td>\n",
       "    </tr>\n",
       "    <tr>\n",
       "      <td>x10</td>\n",
       "      <td>0.338298</td>\n",
       "      <td>0.296670</td>\n",
       "      <td>0.735503</td>\n",
       "      <td>0.661908</td>\n",
       "      <td>0.064635</td>\n",
       "      <td>0.645829</td>\n",
       "      <td>0.441091</td>\n",
       "      <td>0.290069</td>\n",
       "      <td>0.007163</td>\n",
       "      <td>0.314260</td>\n",
       "      <td>...</td>\n",
       "      <td>0.023920</td>\n",
       "      <td>0.285670</td>\n",
       "      <td>0.287692</td>\n",
       "      <td>0.219425</td>\n",
       "      <td>0.006016</td>\n",
       "      <td>0.194802</td>\n",
       "      <td>0.008841</td>\n",
       "      <td>0.395664</td>\n",
       "      <td>0.021740</td>\n",
       "      <td>0.001147</td>\n",
       "    </tr>\n",
       "    <tr>\n",
       "      <td>x5</td>\n",
       "      <td>0.274435</td>\n",
       "      <td>0.109543</td>\n",
       "      <td>0.892480</td>\n",
       "      <td>0.356252</td>\n",
       "      <td>0.194218</td>\n",
       "      <td>1.000000</td>\n",
       "      <td>0.236113</td>\n",
       "      <td>0.110410</td>\n",
       "      <td>0.011965</td>\n",
       "      <td>0.687468</td>\n",
       "      <td>...</td>\n",
       "      <td>0.000850</td>\n",
       "      <td>0.003010</td>\n",
       "      <td>0.005078</td>\n",
       "      <td>0.018191</td>\n",
       "      <td>0.039424</td>\n",
       "      <td>0.120217</td>\n",
       "      <td>0.032084</td>\n",
       "      <td>0.266739</td>\n",
       "      <td>0.144725</td>\n",
       "      <td>0.067050</td>\n",
       "    </tr>\n",
       "    <tr>\n",
       "      <td>x2</td>\n",
       "      <td>0.272978</td>\n",
       "      <td>0.208851</td>\n",
       "      <td>1.000000</td>\n",
       "      <td>0.504509</td>\n",
       "      <td>0.114046</td>\n",
       "      <td>0.892480</td>\n",
       "      <td>0.298078</td>\n",
       "      <td>0.214098</td>\n",
       "      <td>0.014020</td>\n",
       "      <td>0.729858</td>\n",
       "      <td>...</td>\n",
       "      <td>0.014677</td>\n",
       "      <td>0.010825</td>\n",
       "      <td>0.019887</td>\n",
       "      <td>0.034792</td>\n",
       "      <td>0.009057</td>\n",
       "      <td>0.104102</td>\n",
       "      <td>0.002707</td>\n",
       "      <td>0.281884</td>\n",
       "      <td>0.144404</td>\n",
       "      <td>0.095881</td>\n",
       "    </tr>\n",
       "    <tr>\n",
       "      <td>x53</td>\n",
       "      <td>0.245600</td>\n",
       "      <td>0.101277</td>\n",
       "      <td>0.798938</td>\n",
       "      <td>0.296368</td>\n",
       "      <td>0.315602</td>\n",
       "      <td>0.906145</td>\n",
       "      <td>0.255941</td>\n",
       "      <td>0.092646</td>\n",
       "      <td>0.014444</td>\n",
       "      <td>0.617102</td>\n",
       "      <td>...</td>\n",
       "      <td>0.005526</td>\n",
       "      <td>0.005084</td>\n",
       "      <td>0.011973</td>\n",
       "      <td>0.023031</td>\n",
       "      <td>0.021684</td>\n",
       "      <td>0.100456</td>\n",
       "      <td>0.023463</td>\n",
       "      <td>0.234532</td>\n",
       "      <td>0.128262</td>\n",
       "      <td>0.063288</td>\n",
       "    </tr>\n",
       "    <tr>\n",
       "      <td>x9</td>\n",
       "      <td>0.219091</td>\n",
       "      <td>0.000506</td>\n",
       "      <td>0.729858</td>\n",
       "      <td>0.030976</td>\n",
       "      <td>0.135739</td>\n",
       "      <td>0.687468</td>\n",
       "      <td>0.005126</td>\n",
       "      <td>0.019448</td>\n",
       "      <td>0.028458</td>\n",
       "      <td>1.000000</td>\n",
       "      <td>...</td>\n",
       "      <td>0.030241</td>\n",
       "      <td>0.144849</td>\n",
       "      <td>0.135572</td>\n",
       "      <td>0.077605</td>\n",
       "      <td>0.001246</td>\n",
       "      <td>0.005528</td>\n",
       "      <td>0.036929</td>\n",
       "      <td>0.181116</td>\n",
       "      <td>0.126204</td>\n",
       "      <td>0.078322</td>\n",
       "    </tr>\n",
       "    <tr>\n",
       "      <td>x51</td>\n",
       "      <td>0.191357</td>\n",
       "      <td>0.067987</td>\n",
       "      <td>0.197861</td>\n",
       "      <td>0.019216</td>\n",
       "      <td>0.320267</td>\n",
       "      <td>0.236526</td>\n",
       "      <td>0.096300</td>\n",
       "      <td>0.037694</td>\n",
       "      <td>0.066608</td>\n",
       "      <td>0.121566</td>\n",
       "      <td>...</td>\n",
       "      <td>0.027627</td>\n",
       "      <td>0.385481</td>\n",
       "      <td>0.383686</td>\n",
       "      <td>0.325339</td>\n",
       "      <td>0.139066</td>\n",
       "      <td>0.099769</td>\n",
       "      <td>0.067843</td>\n",
       "      <td>0.223139</td>\n",
       "      <td>0.009740</td>\n",
       "      <td>0.038543</td>\n",
       "    </tr>\n",
       "  </tbody>\n",
       "</table>\n",
       "<p>10 rows × 84 columns</p>\n",
       "</div>"
      ],
      "text/plain": [
       "                    Financial Distress        x1        x2        x3  \\\n",
       "Financial Distress            1.000000  0.030928  0.272978  0.089264   \n",
       "x81                           0.442916  0.053595  0.281884  0.111055   \n",
       "x48                           0.435318  0.039251  0.249237  0.092989   \n",
       "x25                           0.376786  0.043398  0.483282  0.083522   \n",
       "x10                           0.338298  0.296670  0.735503  0.661908   \n",
       "x5                            0.274435  0.109543  0.892480  0.356252   \n",
       "x2                            0.272978  0.208851  1.000000  0.504509   \n",
       "x53                           0.245600  0.101277  0.798938  0.296368   \n",
       "x9                            0.219091  0.000506  0.729858  0.030976   \n",
       "x51                           0.191357  0.067987  0.197861  0.019216   \n",
       "\n",
       "                          x4        x5        x6        x7        x8  \\\n",
       "Financial Distress  0.116837  0.274435  0.077260  0.042412  0.006382   \n",
       "x81                 0.203058  0.266739  0.101647  0.064812  0.000214   \n",
       "x48                 0.201250  0.237494  0.083978  0.050854  0.001069   \n",
       "x25                 0.225023  0.461038  0.076557  0.061415  0.001520   \n",
       "x10                 0.064635  0.645829  0.441091  0.290069  0.007163   \n",
       "x5                  0.194218  1.000000  0.236113  0.110410  0.011965   \n",
       "x2                  0.114046  0.892480  0.298078  0.214098  0.014020   \n",
       "x53                 0.315602  0.906145  0.255941  0.092646  0.014444   \n",
       "x9                  0.135739  0.687468  0.005126  0.019448  0.028458   \n",
       "x51                 0.320267  0.236526  0.096300  0.037694  0.066608   \n",
       "\n",
       "                          x9  ...       x74       x75       x76       x77  \\\n",
       "Financial Distress  0.219091  ...  0.018746  0.110030  0.113511  0.096058   \n",
       "x81                 0.181116  ...  0.002413  0.159350  0.162778  0.134828   \n",
       "x48                 0.167506  ...  0.013017  0.125823  0.129920  0.112184   \n",
       "x25                 0.454145  ...  0.016200  0.063416  0.070655  0.074821   \n",
       "x10                 0.314260  ...  0.023920  0.285670  0.287692  0.219425   \n",
       "x5                  0.687468  ...  0.000850  0.003010  0.005078  0.018191   \n",
       "x2                  0.729858  ...  0.014677  0.010825  0.019887  0.034792   \n",
       "x53                 0.617102  ...  0.005526  0.005084  0.011973  0.023031   \n",
       "x9                  1.000000  ...  0.030241  0.144849  0.135572  0.077605   \n",
       "x51                 0.121566  ...  0.027627  0.385481  0.383686  0.325339   \n",
       "\n",
       "                         x78       x79       x80       x81       x82       x83  \n",
       "Financial Distress  0.013891  0.116661  0.048210  0.442916  0.010369  0.007209  \n",
       "x81                 0.020161  0.122266  0.039511  1.000000  0.006151  0.001491  \n",
       "x48                 0.030507  0.099717  0.040592  0.965758  0.001350  0.016606  \n",
       "x25                 0.021393  0.098081  0.048746  0.920063  0.054106  0.031691  \n",
       "x10                 0.006016  0.194802  0.008841  0.395664  0.021740  0.001147  \n",
       "x5                  0.039424  0.120217  0.032084  0.266739  0.144725  0.067050  \n",
       "x2                  0.009057  0.104102  0.002707  0.281884  0.144404  0.095881  \n",
       "x53                 0.021684  0.100456  0.023463  0.234532  0.128262  0.063288  \n",
       "x9                  0.001246  0.005528  0.036929  0.181116  0.126204  0.078322  \n",
       "x51                 0.139066  0.099769  0.067843  0.223139  0.009740  0.038543  \n",
       "\n",
       "[10 rows x 84 columns]"
      ]
     },
     "execution_count": 22,
     "metadata": {},
     "output_type": "execute_result"
    }
   ],
   "source": [
    "print(df.x80.unique().shape)\n",
    "corrDf = df.drop(labels = ['Time','Company'], axis = 1).corr().abs()\n",
    "corrDf.sort_values(by = 'Financial Distress', inplace=True, ascending = False)\n",
    "corrColumns = corrDf.drop(labels=['x80']).index.values #[corrDf['Financial Distress'] > 0.01]\n",
    "corrDf.head(n = 10)"
   ]
  },
  {
   "cell_type": "markdown",
   "metadata": {
    "_cell_guid": "f1a5db59-5455-432d-b473-8c8c575c9d8b",
    "_uuid": "c8ab43eddd13c37ee118296919ffe78aed5f4a2d"
   },
   "source": [
    "'x80' is dropped because it is a categorical variable with 37(lowest) distinct values.(Categorical variables are variables in the data set that unlike continuous variables take a finite set of values. For example, grades that students are given by a teacher for assignments (A, B, C, D, E, and F))\n",
    "It needs to be one hot encoded to work with classifiers. \n",
    "Some more variables can be dropped and only the top few can be retained but right now the number of variables is manageable so take all of them. \n",
    "When 'x80' is encoded some of these can be dropped based on the correlation."
   ]
  },
  {
   "cell_type": "code",
   "execution_count": 23,
   "metadata": {
    "_cell_guid": "3fccd230-a86c-4c03-b42c-ad3e934cc3af",
    "_uuid": "084110bcffe1813bfff26546699fc3cc9bd5c07c"
   },
   "outputs": [
    {
     "data": {
      "text/html": [
       "<div>\n",
       "<style scoped>\n",
       "    .dataframe tbody tr th:only-of-type {\n",
       "        vertical-align: middle;\n",
       "    }\n",
       "\n",
       "    .dataframe tbody tr th {\n",
       "        vertical-align: top;\n",
       "    }\n",
       "\n",
       "    .dataframe thead th {\n",
       "        text-align: right;\n",
       "    }\n",
       "</style>\n",
       "<table border=\"1\" class=\"dataframe\">\n",
       "  <thead>\n",
       "    <tr style=\"text-align: right;\">\n",
       "      <th></th>\n",
       "      <th>Financial Distress</th>\n",
       "      <th>x81</th>\n",
       "      <th>x48</th>\n",
       "      <th>x25</th>\n",
       "      <th>x10</th>\n",
       "      <th>x5</th>\n",
       "      <th>x2</th>\n",
       "      <th>x53</th>\n",
       "      <th>x9</th>\n",
       "      <th>x51</th>\n",
       "      <th>...</th>\n",
       "      <th>x32</th>\n",
       "      <th>x83</th>\n",
       "      <th>x65</th>\n",
       "      <th>x8</th>\n",
       "      <th>x38</th>\n",
       "      <th>x57</th>\n",
       "      <th>x34</th>\n",
       "      <th>x66</th>\n",
       "      <th>x17</th>\n",
       "      <th>x35</th>\n",
       "    </tr>\n",
       "  </thead>\n",
       "  <tbody>\n",
       "    <tr>\n",
       "      <td>0</td>\n",
       "      <td>0.010636</td>\n",
       "      <td>0.060390</td>\n",
       "      <td>1174.90</td>\n",
       "      <td>214.760</td>\n",
       "      <td>0.006449</td>\n",
       "      <td>0.060940</td>\n",
       "      <td>0.022934</td>\n",
       "      <td>0.180900</td>\n",
       "      <td>0.182790</td>\n",
       "      <td>12.837</td>\n",
       "      <td>...</td>\n",
       "      <td>0.28922</td>\n",
       "      <td>49</td>\n",
       "      <td>34.6920</td>\n",
       "      <td>0.018854</td>\n",
       "      <td>0.015016</td>\n",
       "      <td>0.109900</td>\n",
       "      <td>2.5825</td>\n",
       "      <td>30.087</td>\n",
       "      <td>2.1984</td>\n",
       "      <td>77.400</td>\n",
       "    </tr>\n",
       "    <tr>\n",
       "      <td>1</td>\n",
       "      <td>-0.455970</td>\n",
       "      <td>0.010636</td>\n",
       "      <td>1062.50</td>\n",
       "      <td>38.242</td>\n",
       "      <td>0.001795</td>\n",
       "      <td>-0.014080</td>\n",
       "      <td>0.006454</td>\n",
       "      <td>0.056298</td>\n",
       "      <td>0.035991</td>\n",
       "      <td>12.881</td>\n",
       "      <td>...</td>\n",
       "      <td>0.41561</td>\n",
       "      <td>50</td>\n",
       "      <td>124.7600</td>\n",
       "      <td>0.006423</td>\n",
       "      <td>0.027425</td>\n",
       "      <td>0.369330</td>\n",
       "      <td>2.6033</td>\n",
       "      <td>26.124</td>\n",
       "      <td>2.4575</td>\n",
       "      <td>95.947</td>\n",
       "    </tr>\n",
       "    <tr>\n",
       "      <td>2</td>\n",
       "      <td>-0.325390</td>\n",
       "      <td>-0.455970</td>\n",
       "      <td>651.15</td>\n",
       "      <td>-498.390</td>\n",
       "      <td>-0.054324</td>\n",
       "      <td>0.020476</td>\n",
       "      <td>-0.059379</td>\n",
       "      <td>0.047562</td>\n",
       "      <td>-0.765400</td>\n",
       "      <td>12.909</td>\n",
       "      <td>...</td>\n",
       "      <td>0.50356</td>\n",
       "      <td>51</td>\n",
       "      <td>6.4467</td>\n",
       "      <td>-0.081423</td>\n",
       "      <td>0.017270</td>\n",
       "      <td>0.053299</td>\n",
       "      <td>1.4931</td>\n",
       "      <td>30.245</td>\n",
       "      <td>1.3957</td>\n",
       "      <td>144.670</td>\n",
       "    </tr>\n",
       "    <tr>\n",
       "      <td>3</td>\n",
       "      <td>-0.566570</td>\n",
       "      <td>-0.325390</td>\n",
       "      <td>703.04</td>\n",
       "      <td>-75.867</td>\n",
       "      <td>-0.065316</td>\n",
       "      <td>0.076037</td>\n",
       "      <td>-0.015229</td>\n",
       "      <td>0.101350</td>\n",
       "      <td>-0.107910</td>\n",
       "      <td>13.094</td>\n",
       "      <td>...</td>\n",
       "      <td>0.67133</td>\n",
       "      <td>52</td>\n",
       "      <td>-21.9070</td>\n",
       "      <td>-0.018807</td>\n",
       "      <td>0.014327</td>\n",
       "      <td>0.073356</td>\n",
       "      <td>2.3533</td>\n",
       "      <td>34.285</td>\n",
       "      <td>2.0588</td>\n",
       "      <td>219.750</td>\n",
       "    </tr>\n",
       "    <tr>\n",
       "      <td>4</td>\n",
       "      <td>1.357300</td>\n",
       "      <td>1.251000</td>\n",
       "      <td>2465.40</td>\n",
       "      <td>1423.100</td>\n",
       "      <td>0.094075</td>\n",
       "      <td>0.199960</td>\n",
       "      <td>0.107020</td>\n",
       "      <td>0.222370</td>\n",
       "      <td>0.577250</td>\n",
       "      <td>11.396</td>\n",
       "      <td>...</td>\n",
       "      <td>0.68143</td>\n",
       "      <td>27</td>\n",
       "      <td>34.6920</td>\n",
       "      <td>0.128030</td>\n",
       "      <td>0.008152</td>\n",
       "      <td>1.229100</td>\n",
       "      <td>4.1296</td>\n",
       "      <td>30.087</td>\n",
       "      <td>3.0311</td>\n",
       "      <td>222.650</td>\n",
       "    </tr>\n",
       "  </tbody>\n",
       "</table>\n",
       "<p>5 rows × 83 columns</p>\n",
       "</div>"
      ],
      "text/plain": [
       "   Financial Distress       x81      x48       x25       x10        x5  \\\n",
       "0            0.010636  0.060390  1174.90   214.760  0.006449  0.060940   \n",
       "1           -0.455970  0.010636  1062.50    38.242  0.001795 -0.014080   \n",
       "2           -0.325390 -0.455970   651.15  -498.390 -0.054324  0.020476   \n",
       "3           -0.566570 -0.325390   703.04   -75.867 -0.065316  0.076037   \n",
       "4            1.357300  1.251000  2465.40  1423.100  0.094075  0.199960   \n",
       "\n",
       "         x2       x53        x9     x51  ...      x32  x83       x65  \\\n",
       "0  0.022934  0.180900  0.182790  12.837  ...  0.28922   49   34.6920   \n",
       "1  0.006454  0.056298  0.035991  12.881  ...  0.41561   50  124.7600   \n",
       "2 -0.059379  0.047562 -0.765400  12.909  ...  0.50356   51    6.4467   \n",
       "3 -0.015229  0.101350 -0.107910  13.094  ...  0.67133   52  -21.9070   \n",
       "4  0.107020  0.222370  0.577250  11.396  ...  0.68143   27   34.6920   \n",
       "\n",
       "         x8       x38       x57     x34     x66     x17      x35  \n",
       "0  0.018854  0.015016  0.109900  2.5825  30.087  2.1984   77.400  \n",
       "1  0.006423  0.027425  0.369330  2.6033  26.124  2.4575   95.947  \n",
       "2 -0.081423  0.017270  0.053299  1.4931  30.245  1.3957  144.670  \n",
       "3 -0.018807  0.014327  0.073356  2.3533  34.285  2.0588  219.750  \n",
       "4  0.128030  0.008152  1.229100  4.1296  30.087  3.0311  222.650  \n",
       "\n",
       "[5 rows x 83 columns]"
      ]
     },
     "execution_count": 23,
     "metadata": {},
     "output_type": "execute_result"
    }
   ],
   "source": [
    "reducedDf = df[corrColumns]\n",
    "reducedDf.head()"
   ]
  },
  {
   "cell_type": "code",
   "execution_count": 24,
   "metadata": {},
   "outputs": [
    {
     "name": "stdout",
     "output_type": "stream",
     "text": [
      "<class 'pandas.core.frame.DataFrame'>\n"
     ]
    }
   ],
   "source": [
    "print(type(reducedDf))"
   ]
  },
  {
   "cell_type": "markdown",
   "metadata": {
    "_cell_guid": "867560c6-1324-4e58-8caf-391e688da0c6",
    "_uuid": "6c65ed389ee5ccac54d654b8c851823b533422c9"
   },
   "source": [
    "reducedDf contains only Financial Distress measure and the features we will be working with. \n",
    "\n",
    "FEATURE SCALING:\n",
    "Features should be scaled using standard scaler before using them for training or testing."
   ]
  },
  {
   "cell_type": "code",
   "execution_count": 27,
   "metadata": {
    "_cell_guid": "cb2323e2-e5de-49c0-9987-1ba8b6aa0c7c",
    "_uuid": "532e5f805ce20ec00cc2591f77d4c0818c4e8ea1"
   },
   "outputs": [
    {
     "name": "stdout",
     "output_type": "stream",
     "text": [
      "[[-0.39008035 -0.44722129 -0.42869797 ...  0.29953994 -0.03414717\n",
      "  -0.02943443]\n",
      " [-0.40874018 -0.48561686 -0.52556044 ... -0.3452527  -0.03414286\n",
      "  -0.0294265 ]\n",
      " [-0.58373692 -0.62613299 -0.82003184 ...  0.32524704 -0.0341605\n",
      "  -0.02940565]\n",
      " ...\n",
      " [-0.23180522 -0.27160601 -0.2855866  ...  1.72091478 -0.0335352\n",
      "  -0.02936418]\n",
      " [-0.22491945 -0.26535478 -0.29573828 ... -0.9618977  -0.03352478\n",
      "  -0.02935624]\n",
      " [-0.18356734 -0.22750577 -0.26940974 ...  0.28912694 -0.03393432\n",
      "  -0.02910372]]\n"
     ]
    }
   ],
   "source": [
    "from sklearn.preprocessing import RobustScaler, StandardScaler\n",
    "scaler = StandardScaler()\n",
    "trainArray = reducedDf.to_numpy()\n",
    "scaledData = trainArray\n",
    "scaledData[:,1:] = scaler.fit_transform(trainArray[:,1:])   #all rows and excluding 0th column\n",
    "\n",
    "\n",
    "print(scaledData[:,1:])\n",
    "\n"
   ]
  },
  {
   "cell_type": "markdown",
   "metadata": {
    "_cell_guid": "326e82bd-605e-4d2e-bf6e-6960b41b870d",
    "_uuid": "4f9e3fe657841d00d4f5f9b9fb00f195122e1335"
   },
   "source": [
    "Examine imbalance in the dataset. Only ~5 % are distressed "
   ]
  },
  {
   "cell_type": "code",
   "execution_count": 30,
   "metadata": {
    "_cell_guid": "7685d186-f963-4481-90a1-ac39bdc6baec",
    "_uuid": "396f72431a82cf652b34594f214309213526473f"
   },
   "outputs": [
    {
     "name": "stdout",
     "output_type": "stream",
     "text": [
      "3536\n",
      "136\n"
     ]
    }
   ],
   "source": [
    "print(np.sum(scaledData[:,0] > -0.5)) # 3281 healthy\n",
    "print(np.sum(scaledData[:,0] <= -0.5)) # 391 distressed cases\n"
   ]
  },
  {
   "cell_type": "markdown",
   "metadata": {
    "_cell_guid": "d391bc4d-24d6-40ce-a316-018fa54dd069",
    "_uuid": "d7e85af71d0c332fd460f4fb7fa83688844fa540"
   },
   "source": [
    "Plotting to see all features if distribution is good. \n",
    "It Looks reasonable."
   ]
  },
  {
   "cell_type": "code",
   "execution_count": 10,
   "metadata": {
    "_cell_guid": "a3210eef-ab77-49ab-b443-497685f6d58b",
    "_uuid": "21a81eb86736db06ac2f5b9991857f78bb0c976c"
   },
   "outputs": [
    {
     "data": {
      "text/plain": [
       "<matplotlib.axes._subplots.AxesSubplot at 0x1a2127d8a88>"
      ]
     },
     "execution_count": 10,
     "metadata": {},
     "output_type": "execute_result"
    },
    {
     "data": {
      "image/png": "[encoded data removed]",
      "text/plain": [
       "<Figure size 432x288 with 1 Axes>"
      ]
     },
     "metadata": {
      "needs_background": "light"
     },
     "output_type": "display_data"
    }
   ],
   "source": [
    "import seaborn as sns\n",
    "sns.boxplot(data = scaledData[:,1:])"
   ]
  },
  {
   "cell_type": "markdown",
   "metadata": {
    "_cell_guid": "3d4aa5de-9d48-46dd-a071-63f1480bc138",
    "_uuid": "e300b77503e7978f2c4484e04a7f18922a72e614"
   },
   "source": [
    "Since the data is imabalanced we should focus on precision, recall and FScore rather than relying on accuracy.  \n",
    "\n",
    "Peform a linear regression to predict Financial Distress value and then predict if it is distressed or not using a threshold on the predicted distress metric."
   ]
  },
  {
   "cell_type": "code",
   "execution_count": 16,
   "metadata": {
    "_cell_guid": "5e516e3f-b30a-4a5e-8e61-021c3f8e9a0a",
    "_uuid": "9f9b43253b85f1882a186246fcc3754d0c141b43"
   },
   "outputs": [
    {
     "data": {
      "text/plain": [
       "Text(0, 0.5, 'Precision')"
      ]
     },
     "execution_count": 16,
     "metadata": {},
     "output_type": "execute_result"
    },
    {
     "data": {
      "image/png": "[encoded data removed]",
      "text/plain": [
       "<Figure size 432x288 with 1 Axes>"
      ]
     },
     "metadata": {
      "needs_background": "light"
     },
     "output_type": "display_data"
    }
   ],
   "source": [
    "from sklearn.linear_model import LinearRegression\n",
    "from sklearn import svm\n",
    "from sklearn.model_selection import cross_val_predict\n",
    "from sklearn.metrics import confusion_matrix\n",
    "from sklearn.metrics import precision_score, recall_score, f1_score\n",
    "import matplotlib.pyplot as plt\n",
    "\n",
    "uniformData = scaledData\n",
    "X = uniformData[:,1:]\n",
    "y = uniformData[:,0]\n",
    "y_discrete = (uniformData[:,0] < -0.5).astype(int)\n",
    "\n",
    "mdl = LinearRegression()\n",
    "\n",
    "thresholds = np.arange(-1.5,-0.5,0.1) # Try some thresholds\n",
    "precisions = np.zeros_like(thresholds)\n",
    "recalls = np.zeros_like(thresholds)\n",
    "f1_scores = np.zeros_like(thresholds)\n",
    "predicted_metric = cross_val_predict(mdl, X, y, cv = 5)\n",
    "fig, ax = plt.subplots()\n",
    "for i in range(len(thresholds)):\n",
    "    predicted = (predicted_metric < thresholds[i]).astype(int)\n",
    "    precisions[i] = precision_score(y_discrete, predicted)\n",
    "    recalls[i] = recall_score(y_discrete, predicted)\n",
    "    f1_scores[i] = f1_score(y_discrete, predicted)\n",
    "    plt.scatter(recalls[i], precisions[i])\n",
    "    ax.annotate('%0.3f' % (f1_scores[i]),(recalls[i], precisions[i]))\n",
    "plt.xlabel('Recall')    \n",
    "plt.ylabel('Precision')\n",
    "\n"
   ]
  },
  {
   "cell_type": "code",
   "execution_count": 17,
   "metadata": {
    "_cell_guid": "b515f6a5-4c6f-4ed1-a1fa-e22cbee9e803",
    "_uuid": "072f3870b2f54986c4ca345453dd3fa0adbad86c"
   },
   "outputs": [
    {
     "data": {
      "text/plain": [
       "Text(0, 0.5, 'Precision')"
      ]
     },
     "execution_count": 17,
     "metadata": {},
     "output_type": "execute_result"
    },
    {
     "data": {
      "image/png": "[encoded data removed]",
      "text/plain": [
       "<Figure size 432x288 with 1 Axes>"
      ]
     },
     "metadata": {
      "needs_background": "light"
     },
     "output_type": "display_data"
    }
   ],
   "source": [
    "mdl = svm.SVR()\n",
    "thresholds = np.arange(-0.5,0.5,0.1) # Try some thresholds\n",
    "precisions = np.zeros_like(thresholds)\n",
    "recalls = np.zeros_like(thresholds)\n",
    "f1_scores = np.zeros_like(thresholds)\n",
    "predicted_metric = cross_val_predict(mdl, X, y, cv = 5)\n",
    "fig, ax = plt.subplots()\n",
    "for i in range(len(thresholds)):\n",
    "    predicted = (predicted_metric < thresholds[i]).astype(int)\n",
    "    precisions[i] = precision_score(y_discrete, predicted)\n",
    "    recalls[i] = recall_score(y_discrete, predicted)\n",
    "    f1_scores[i] = f1_score(y_discrete, predicted)\n",
    "    plt.scatter(recalls[i], precisions[i])\n",
    "    ax.annotate('%0.3f' % (f1_scores[i]),(recalls[i], precisions[i]))\n",
    "plt.xlabel('Recall')    \n",
    "plt.ylabel('Precision')"
   ]
  },
  {
   "cell_type": "markdown",
   "metadata": {
    "_cell_guid": "ec1fb258-8062-4753-a62d-55c7397a99aa",
    "_uuid": "4edb1db03ad3ddb2c300f56538354c22428062b3"
   },
   "source": [
    "Linear model gives a best Fscore of 0.295 and SVR improves it to ~0.4. Now we turn to some classifiers to run this task as a pure classification job\n",
    "\n",
    "To run the data through classifiers we should use StratifiedKFold because it ensures that the proportion of classes remains almost constant across splits. Also classifiers have a parameter named 'class_weight' which can be set to 'balanced' to weigh the observations by their support. \n"
   ]
  },
  {
   "cell_type": "code",
   "execution_count": 18,
   "metadata": {
    "_cell_guid": "db2bdc9f-81b5-47d3-8091-4d53109bd84c",
    "_uuid": "eee0243b30f097e2e442a721eecf6268a91406f2"
   },
   "outputs": [],
   "source": [
    "from sklearn.model_selection import StratifiedKFold"
   ]
  },
  {
   "cell_type": "markdown",
   "metadata": {
    "_cell_guid": "6673c31e-e9d4-49d8-9126-a388b257238a",
    "_uuid": "a678f58a02df58ac61bc1dbb6ca3c5db06b1ec4d"
   },
   "source": [
    "Let's define a wrapper function which does the classification using StratifiedKFold CV and returns predicted probability for each observation. This function should also be able to plot the confusion matrix for different threshold levels."
   ]
  },
  {
   "cell_type": "code",
   "execution_count": 19,
   "metadata": {
    "_cell_guid": "ee3684e4-99ec-49e8-990a-1eae3b06b66b",
    "_uuid": "e72de3f7e0c49543ae7b80d76c306193864dc26c"
   },
   "outputs": [],
   "source": [
    "\n",
    "from sklearn.metrics import precision_recall_curve\n",
    "import matplotlib.pyplot as plt\n",
    "\n",
    "def cvClassifier(mdl, X, y, color, name, confMat = False, confMatNormalize = True):\n",
    "    skf = StratifiedKFold(n_splits = 5)\n",
    "    predicted_prob = np.zeros_like(y, dtype = float)\n",
    "    for train,test in skf.split(X, y):\n",
    "        mdl.fit(X[train,:],y[train])\n",
    "        y_prob = mdl.predict_proba(X[test,:])\n",
    "        predicted_prob[test] = y_prob[:,1] #The second class 1 from 0,1 is the one to be predicted\n",
    "    \n",
    "    precision, recall, thresholds = precision_recall_curve(y, predicted_prob)\n",
    "    plt.plot(recall, precision, color=color,label = name)\n",
    "    plt.xlabel('Recall')\n",
    "    plt.ylabel('Precision')\n",
    "    plt.ylim([0.0, 1.05])\n",
    "    plt.xlim([0.0, 1.0])\n",
    "    plt.title('2-class Precision-Recall curve')\n",
    "    plt.legend()\n",
    "    \n",
    "    fscore = 2*(precision*recall)/(precision + recall)\n",
    "    maxFidx = np.nanargmax(fscore)\n",
    "    selP = precision[maxFidx]\n",
    "    selRecall = recall[maxFidx]\n",
    "    selThreshold = thresholds[maxFidx]\n",
    "\n",
    "    return predicted_prob, selP, selRecall, fscore[maxFidx], selThreshold"
   ]
  },
  {
   "cell_type": "markdown",
   "metadata": {
    "_cell_guid": "df789bd7-be45-4d8d-a9a8-8e9944393237",
    "_uuid": "178b6e48ca138d53ba49e85be7a69b72843ec0e4"
   },
   "source": [
    "Now we can try some classifier using the function defined above. We should use only classifiers with a class_weight parameter available since only they can compensate for the imbalance in the dataset. The selection criterion is to maximize F score. "
   ]
  },
  {
   "cell_type": "code",
   "execution_count": 20,
   "metadata": {
    "_cell_guid": "07742935-dfb6-4197-a1a9-a7840849a47c",
    "_uuid": "f36cd0b61263cfb5d33837d4f10b3fa4a75b23b8"
   },
   "outputs": [
    {
     "name": "stderr",
     "output_type": "stream",
     "text": [
      "C:\\Users\\Admin\\anaconda3\\lib\\site-packages\\sklearn\\linear_model\\_logistic.py:762: ConvergenceWarning: lbfgs failed to converge (status=1):\n",
      "STOP: TOTAL NO. of ITERATIONS REACHED LIMIT.\n",
      "\n",
      "Increase the number of iterations (max_iter) or scale the data as shown in:\n",
      "    https://scikit-learn.org/stable/modules/preprocessing.html\n",
      "Please also refer to the documentation for alternative solver options:\n",
      "    https://scikit-learn.org/stable/modules/linear_model.html#logistic-regression\n",
      "  n_iter_i = _check_optimize_result(\n",
      "C:\\Users\\Admin\\anaconda3\\lib\\site-packages\\sklearn\\linear_model\\_logistic.py:762: ConvergenceWarning: lbfgs failed to converge (status=1):\n",
      "STOP: TOTAL NO. of ITERATIONS REACHED LIMIT.\n",
      "\n",
      "Increase the number of iterations (max_iter) or scale the data as shown in:\n",
      "    https://scikit-learn.org/stable/modules/preprocessing.html\n",
      "Please also refer to the documentation for alternative solver options:\n",
      "    https://scikit-learn.org/stable/modules/linear_model.html#logistic-regression\n",
      "  n_iter_i = _check_optimize_result(\n",
      "C:\\Users\\Admin\\anaconda3\\lib\\site-packages\\sklearn\\linear_model\\_logistic.py:762: ConvergenceWarning: lbfgs failed to converge (status=1):\n",
      "STOP: TOTAL NO. of ITERATIONS REACHED LIMIT.\n",
      "\n",
      "Increase the number of iterations (max_iter) or scale the data as shown in:\n",
      "    https://scikit-learn.org/stable/modules/preprocessing.html\n",
      "Please also refer to the documentation for alternative solver options:\n",
      "    https://scikit-learn.org/stable/modules/linear_model.html#logistic-regression\n",
      "  n_iter_i = _check_optimize_result(\n",
      "C:\\Users\\Admin\\anaconda3\\lib\\site-packages\\sklearn\\linear_model\\_logistic.py:762: ConvergenceWarning: lbfgs failed to converge (status=1):\n",
      "STOP: TOTAL NO. of ITERATIONS REACHED LIMIT.\n",
      "\n",
      "Increase the number of iterations (max_iter) or scale the data as shown in:\n",
      "    https://scikit-learn.org/stable/modules/preprocessing.html\n",
      "Please also refer to the documentation for alternative solver options:\n",
      "    https://scikit-learn.org/stable/modules/linear_model.html#logistic-regression\n",
      "  n_iter_i = _check_optimize_result(\n",
      "C:\\Users\\Admin\\anaconda3\\lib\\site-packages\\sklearn\\linear_model\\_logistic.py:762: ConvergenceWarning: lbfgs failed to converge (status=1):\n",
      "STOP: TOTAL NO. of ITERATIONS REACHED LIMIT.\n",
      "\n",
      "Increase the number of iterations (max_iter) or scale the data as shown in:\n",
      "    https://scikit-learn.org/stable/modules/preprocessing.html\n",
      "Please also refer to the documentation for alternative solver options:\n",
      "    https://scikit-learn.org/stable/modules/linear_model.html#logistic-regression\n",
      "  n_iter_i = _check_optimize_result(\n",
      "<ipython-input-19-41d92de96cc8>:21: RuntimeWarning: invalid value encountered in true_divide\n",
      "  fscore = 2*(precision*recall)/(precision + recall)\n"
     ]
    },
    {
     "data": {
      "image/png": "[encoded data removed]",
      "text/plain": [
       "<Figure size 432x288 with 1 Axes>"
      ]
     },
     "metadata": {
      "needs_background": "light"
     },
     "output_type": "display_data"
    }
   ],
   "source": [
    "from sklearn.linear_model import LogisticRegression\n",
    "from sklearn.ensemble import RandomForestClassifier\n",
    "from sklearn.model_selection import train_test_split\n",
    "\n",
    "X_train, X_test, y_train, y_test = train_test_split(X, y_discrete, test_size=0.3, stratify=y_discrete, random_state=42)\n",
    "\n",
    "mdl = LogisticRegression(class_weight = 'balanced')\n",
    "out1 = cvClassifier(mdl, X_train, y_train, 'y','Logit')\n",
    "\n",
    "mdl = svm.SVC(kernel = 'linear', C=0.025, class_weight = 'balanced', probability = True)\n",
    "out2 = cvClassifier(mdl, X_train, y_train, 'b','LinearSVC')\n",
    "\n",
    "mdl = RandomForestClassifier(class_weight = 'balanced', n_estimators=1000)\n",
    "out3 = cvClassifier(mdl, X_train, y_train, 'r','RandomForest')\n",
    "\n",
    "mdl = svm.SVC(C=0.5, class_weight = 'balanced', probability = True)\n",
    "out4 = cvClassifier(mdl, X_train, y_train, 'g','RBFSVC')"
   ]
  },
  {
   "cell_type": "markdown",
   "metadata": {
    "_cell_guid": "1a64d87b-8fe9-41a7-9ea3-7a0bcc0678ef",
    "_uuid": "029303c80432765545926cf2609fc6c39c48b58f"
   },
   "source": [
    "All the classifiers are performing very closely. If the FScore numbers don't vary by a lot we should use the simplest model (Logit or LinearSVC).\n",
    "\n",
    "We can now examine the best Fscores from different models and the precision recall associated with the scores."
   ]
  },
  {
   "cell_type": "code",
   "execution_count": 21,
   "metadata": {
    "_cell_guid": "b11a7b16-dd04-48e9-b5df-499a004123ad",
    "_uuid": "52acc2399622c13d7c3a6db31915b1515d680b6f"
   },
   "outputs": [
    {
     "data": {
      "text/plain": [
       "(0.35, 0.65)"
      ]
     },
     "execution_count": 21,
     "metadata": {},
     "output_type": "execute_result"
    },
    {
     "data": {
      "image/png": "[encoded data removed]",
      "text/plain": [
       "<Figure size 432x288 with 1 Axes>"
      ]
     },
     "metadata": {
      "needs_background": "light"
     },
     "output_type": "display_data"
    }
   ],
   "source": [
    "results = [out1, out2, out3, out4]\n",
    "mdlNames = ['Logit','LinearSVC','RF','RBFSVC']\n",
    "fig, ax = plt.subplots()\n",
    "for i in range(len(results)):\n",
    "    ax.scatter(results[i][2],results[i][1])\n",
    "    ax.annotate('%s %0.4f' % (mdlNames[i], results[i][3]),(results[i][2],results[i][1]))\n",
    "plt.xlabel('Recall')\n",
    "plt.ylabel('Precision')\n",
    "plt.ylim([0.3, 0.5])\n",
    "plt.xlim([0.35, 0.65])"
   ]
  },
  {
   "cell_type": "markdown",
   "metadata": {
    "_cell_guid": "4e4819d1-e7df-4e94-9574-e977a67d3cff",
    "_uuid": "06849604b648ca435d204c7328b9a0284fcfaf9d"
   },
   "source": [
    "LinearSVC has the highest F score and at the highest recall value. For this problem it's good to have a model with a better recall."
   ]
  },
  {
   "cell_type": "code",
   "execution_count": 22,
   "metadata": {
    "_cell_guid": "73389563-83c9-4448-aad8-8b3124a1e3c9",
    "_uuid": "8045a78a599350991ff0bd89778e261d438ac9e1"
   },
   "outputs": [
    {
     "name": "stdout",
     "output_type": "stream",
     "text": [
      "Accuracy 0.94\n",
      "Threshold 0.144\n"
     ]
    }
   ],
   "source": [
    "threshold = out2[4]\n",
    "y_pred = (out2[0] > threshold).astype(int)\n",
    "from sklearn.metrics import accuracy_score\n",
    "acc = accuracy_score(y_train, y_pred)\n",
    "print('Accuracy %0.2f' % (acc))\n",
    "print('Threshold %0.3f' % (threshold))"
   ]
  },
  {
   "cell_type": "markdown",
   "metadata": {},
   "source": [
    "Now we can try the LinearSVC model with the hold out test set."
   ]
  },
  {
   "cell_type": "code",
   "execution_count": 23,
   "metadata": {},
   "outputs": [
    {
     "name": "stdout",
     "output_type": "stream",
     "text": [
      "Accuracy 0.93\n",
      "Precision 0.28\n",
      "Recall 0.54\n"
     ]
    },
    {
     "data": {
      "image/png": "[encoded data removed]",
      "text/plain": [
       "<Figure size 432x288 with 1 Axes>"
      ]
     },
     "metadata": {
      "needs_background": "light"
     },
     "output_type": "display_data"
    }
   ],
   "source": [
    "mdl = svm.SVC(kernel = 'linear', C=0.025, class_weight = 'balanced', probability = True)\n",
    "out2 = cvClassifier(mdl, X_train, y_train, 'b','LinearSVC')\n",
    "\n",
    "y_testp = (mdl.predict_proba(X_test)[:,1] > threshold).astype(int)\n",
    "acc = accuracy_score(y_test, y_testp)\n",
    "print('Accuracy %0.2f' % (acc))\n",
    "print('Precision %0.2f' % (precision_score(y_test,y_testp)))\n",
    "print('Recall %0.2f' % (recall_score(y_test,y_testp)))"
   ]
  },
  {
   "cell_type": "code",
   "execution_count": null,
   "metadata": {},
   "outputs": [],
   "source": []
  }
 ],
 "metadata": {
  "kernelspec": {
   "display_name": "Python 3",
   "language": "python",
   "name": "python3"
  },
  "language_info": {
   "codemirror_mode": {
    "name": "ipython",
    "version": 3
   },
   "file_extension": ".py",
   "mimetype": "text/x-python",
   "name": "python",
   "nbconvert_exporter": "python",
   "pygments_lexer": "ipython3",
   "version": "3.7.4"
  }
 },
 "nbformat": 4,
 "nbformat_minor": 1
}
